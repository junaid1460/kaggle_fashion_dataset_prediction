{
 "cells": [
  {
   "cell_type": "markdown",
   "metadata": {},
   "source": [
    "# Fashion MNIST dataset\n",
    "download it with this [link](https://storage.googleapis.com/kaggle-datasets/2243/9243/fashionmnist.zip?GoogleAccessId=web-data@kaggle-161607.iam.gserviceaccount.com&Expires=1516112688&Signature=az%2BE%2Bs21Kg1wHjVZMQZNa1SGN4RPHms9xBGXQwqOZyWW1gdm8I0JQsuwNxEihntJ%2Bxs62ICHRzjmlJ%2B7zzyQe8C%2Fy%2BkgKVwyGbo5iGafbIxVRYfqznnT0SBy04S%2BV%2FUbeMLX8LWxkP1lPSOWo%2B5N8fpyQgNNI03qffARUNlNhl8FFBaHpFyZyPDQo114C1cXbF3EW4nWnUuCSuaKJy4bsU2NGqmRVJWu9aZKBGA9UUVwircEwCl3clUmMixex6xVxUYuak6PkztsKmjQpuGPT3l3C9KkQdNUWrdmog7WgsJRllr5j8xhMuYH4WYKWL7ztg2ekyBpNa3brR%2Bff%2Fjp%2Bg%3D%3D) and extract in current directory."
   ]
  },
  {
   "cell_type": "code",
   "execution_count": 1,
   "metadata": {
    "scrolled": true
   },
   "outputs": [
    {
     "name": "stderr",
     "output_type": "stream",
     "text": [
      "Using TensorFlow backend.\n",
      "/usr/lib/python3.6/importlib/_bootstrap.py:219: RuntimeWarning: compiletime version 3.5 of module 'tensorflow.python.framework.fast_tensor_util' does not match runtime version 3.6\n",
      "  return f(*args, **kwds)\n"
     ]
    }
   ],
   "source": [
    "from keras.layers import Conv2D, Dense, Activation, Input, Reshape, Merge, Concatenate, merge, add, UpSampling2D\n",
    "from keras.models import Sequential, Model\n",
    "from keras.datasets import mnist\n",
    "from keras.utils import to_categorical\n",
    "import matplotlib.pyplot as plt"
   ]
  },
  {
   "cell_type": "code",
   "execution_count": 2,
   "metadata": {},
   "outputs": [],
   "source": [
    "import pandas as pd\n",
    "import numpy as np"
   ]
  },
  {
   "cell_type": "code",
   "execution_count": 3,
   "metadata": {},
   "outputs": [],
   "source": [
    "classes = 11"
   ]
  },
  {
   "cell_type": "code",
   "execution_count": 4,
   "metadata": {},
   "outputs": [],
   "source": [
    "def getndata(data, num_classes):\n",
    "    def getx(col):\n",
    "        return np.array(col[1][1:])\n",
    "\n",
    "    def gety(col):\n",
    "        return col[1][0]\n",
    "    data = data.T\n",
    "    xdata = np.array(list(map(getx, data.items())))\n",
    "    ydata = np.array(list(map(gety, data.items())))\n",
    "    xdata = xdata.reshape((-1, 28, 28, 1))\n",
    "    ydata = to_categorical(y=ydata, num_classes=num_classes)\n",
    "    xdata = xdata.astype(int)\n",
    "    xdatan = xdata/255\n",
    "    ndata = np.array(list(zip(ydata, xdatan)))\n",
    "    return ndata"
   ]
  },
  {
   "cell_type": "code",
   "execution_count": 5,
   "metadata": {},
   "outputs": [],
   "source": [
    "ndata = getndata(pd.read_csv('./fashion-mnist_train.csv'), classes )"
   ]
  },
  {
   "cell_type": "code",
   "execution_count": 6,
   "metadata": {},
   "outputs": [],
   "source": [
    "def random_batch(ndata, train_set_ratio = 0.7 ): #70% of data is for training rest are for testing\n",
    "    assert train_set_ratio < 1\n",
    "    assert train_set_ratio > 0\n",
    "    border = int(len(ndata) * train_set_ratio)\n",
    "    np.random.shuffle(ndata)\n",
    "    ydata, xdata = ndata.T\n",
    "    xdata = np.array(list(xdata))\n",
    "    ydata = np.array(list(ydata))\n",
    "    xtrain = xdata[:border]\n",
    "    xtest = xdata[border:]\n",
    "    ytrain = ydata[:border]\n",
    "    ytest = ydata[border:]\n",
    "    return (xtrain, ytrain), (xtest, ytest)"
   ]
  },
  {
   "cell_type": "code",
   "execution_count": 7,
   "metadata": {},
   "outputs": [],
   "source": [
    "(xtrain, ytrain), (xtest, ytest) = random_batch(ndata, 0.8)"
   ]
  },
  {
   "cell_type": "code",
   "execution_count": 8,
   "metadata": {
    "scrolled": true
   },
   "outputs": [
    {
     "name": "stdout",
     "output_type": "stream",
     "text": [
      "__________________________________________________________________________________________________\n",
      "Layer (type)                    Output Shape         Param #     Connected to                     \n",
      "==================================================================================================\n",
      "input_1 (InputLayer)            (None, 28, 28, 1)    0                                            \n",
      "__________________________________________________________________________________________________\n",
      "conv2d_1 (Conv2D)               (None, 26, 26, 1)    10          input_1[0][0]                    \n",
      "__________________________________________________________________________________________________\n",
      "conv2d_2 (Conv2D)               (None, 24, 24, 1)    10          conv2d_1[0][0]                   \n",
      "__________________________________________________________________________________________________\n",
      "conv2d_3 (Conv2D)               (None, 22, 22, 1)    10          conv2d_2[0][0]                   \n",
      "__________________________________________________________________________________________________\n",
      "conv2d_4 (Conv2D)               (None, 20, 20, 1)    10          conv2d_3[0][0]                   \n",
      "__________________________________________________________________________________________________\n",
      "conv2d_5 (Conv2D)               (None, 18, 18, 1)    10          conv2d_4[0][0]                   \n",
      "__________________________________________________________________________________________________\n",
      "conv2d_6 (Conv2D)               (None, 16, 16, 1)    10          conv2d_5[0][0]                   \n",
      "__________________________________________________________________________________________________\n",
      "conv2d_7 (Conv2D)               (None, 14, 14, 1)    10          conv2d_6[0][0]                   \n",
      "__________________________________________________________________________________________________\n",
      "reshape_1 (Reshape)             (None, 676)          0           conv2d_1[0][0]                   \n",
      "__________________________________________________________________________________________________\n",
      "reshape_2 (Reshape)             (None, 576)          0           conv2d_2[0][0]                   \n",
      "__________________________________________________________________________________________________\n",
      "reshape_3 (Reshape)             (None, 484)          0           conv2d_3[0][0]                   \n",
      "__________________________________________________________________________________________________\n",
      "reshape_4 (Reshape)             (None, 400)          0           conv2d_4[0][0]                   \n",
      "__________________________________________________________________________________________________\n",
      "reshape_5 (Reshape)             (None, 324)          0           conv2d_5[0][0]                   \n",
      "__________________________________________________________________________________________________\n",
      "reshape_6 (Reshape)             (None, 256)          0           conv2d_6[0][0]                   \n",
      "__________________________________________________________________________________________________\n",
      "reshape_7 (Reshape)             (None, 196)          0           conv2d_7[0][0]                   \n",
      "__________________________________________________________________________________________________\n",
      "merge_1 (Merge)                 (None, 2912)         0           reshape_1[0][0]                  \n",
      "                                                                 reshape_2[0][0]                  \n",
      "                                                                 reshape_3[0][0]                  \n",
      "                                                                 reshape_4[0][0]                  \n",
      "                                                                 reshape_5[0][0]                  \n",
      "                                                                 reshape_6[0][0]                  \n",
      "                                                                 reshape_7[0][0]                  \n",
      "__________________________________________________________________________________________________\n",
      "dense_1 (Dense)                 (None, 512)          1491456     merge_1[0][0]                    \n",
      "__________________________________________________________________________________________________\n",
      "dense_2 (Dense)                 (None, 256)          131328      dense_1[0][0]                    \n",
      "__________________________________________________________________________________________________\n",
      "dense_3 (Dense)                 (None, 11)           2827        dense_2[0][0]                    \n",
      "==================================================================================================\n",
      "Total params: 1,625,681\n",
      "Trainable params: 1,625,681\n",
      "Non-trainable params: 0\n",
      "__________________________________________________________________________________________________\n"
     ]
    },
    {
     "name": "stderr",
     "output_type": "stream",
     "text": [
      "/usr/local/lib/python3.6/dist-packages/ipykernel_launcher.py:20: UserWarning: The `merge` function is deprecated and will be removed after 08/2017. Use instead layers from `keras.layers.merge`, e.g. `add`, `concatenate`, etc.\n",
      "/usr/local/lib/python3.6/dist-packages/keras/legacy/layers.py:458: UserWarning: The `Merge` layer is deprecated and will be removed after 08/2017. Use instead layers from `keras.layers.merge`, e.g. `add`, `concatenate`, etc.\n",
      "  name=name)\n"
     ]
    }
   ],
   "source": [
    "# discriminator model\n",
    "input_layer = Input(shape = xtrain.shape[1:])\n",
    "conv_1 = Conv2D(kernel_size=3, filters=1, activation='tanh')(input_layer)\n",
    "conv_2 = Conv2D(kernel_size=3, filters=1, activation='relu')(conv_1)\n",
    "conv_3 = Conv2D(kernel_size=3, filters=1, activation='tanh')(conv_2)\n",
    "conv_4 = Conv2D(kernel_size=3, filters=1, activation='relu')(conv_3)\n",
    "conv_5 = Conv2D(kernel_size=3, filters=1, activation='tanh')(conv_4)\n",
    "conv_6 = Conv2D(kernel_size=3, filters=1, activation='relu')(conv_5)\n",
    "conv_7 = Conv2D(kernel_size=3, filters=1, activation='tanh')(conv_6)\n",
    "reshape_1 = Reshape((-1,))(conv_1)\n",
    "reshape_2 = Reshape((-1,))(conv_2)\n",
    "reshape_3 = Reshape((-1,))(conv_3)\n",
    "reshape_4 = Reshape((-1,))(conv_4)\n",
    "reshape_5 = Reshape((-1,))(conv_5)\n",
    "reshape_6 = Reshape((-1,))(conv_6)\n",
    "reshape_7 = Reshape((-1,))(conv_7)\n",
    "# merge_1 = Merge(list(map(lambda x:Model(input_layer, x),\n",
    "#                          [reshape_1, reshape_2, reshape_3, reshape_4])), mode = 'concat')\n",
    "concat_1 = merge([reshape_1, reshape_2, \n",
    "                  reshape_3, reshape_4, \n",
    "                  reshape_5, reshape_6, reshape_7], mode='concat')\n",
    "dense_1 = Dense(units = 512,  activation='relu')(concat_1)\n",
    "dense_1 = Dense(units = 256,  activation = 'sigmoid')(dense_1)\n",
    "output_layer = Dense(units = classes,  activation = 'sigmoid')(dense_1)\n",
    "model = Model(input_layer, output_layer)\n",
    "model.compile(loss = 'categorical_crossentropy', optimizer='rmsprop', metrics = ['accuracy'])\n",
    "model.summary()"
   ]
  },
  {
   "cell_type": "code",
   "execution_count": 9,
   "metadata": {
    "scrolled": true
   },
   "outputs": [
    {
     "name": "stdout",
     "output_type": "stream",
     "text": [
      "Train on 48000 samples, validate on 12000 samples\n",
      "Epoch 1/1\n",
      "48000/48000 [==============================] - 56s 1ms/step - loss: 0.7469 - acc: 0.7558 - val_loss: 0.4777 - val_acc: 0.8280\n"
     ]
    },
    {
     "data": {
      "text/plain": [
       "<keras.callbacks.History at 0x7fb4e41a8ef0>"
      ]
     },
     "execution_count": 9,
     "metadata": {},
     "output_type": "execute_result"
    }
   ],
   "source": [
    "model.fit(xtrain, ytrain, epochs=1, batch_size=500, validation_data=(xtest, ytest))"
   ]
  },
  {
   "cell_type": "code",
   "execution_count": 10,
   "metadata": {},
   "outputs": [
    {
     "name": "stdout",
     "output_type": "stream",
     "text": [
      "_________________________________________________________________\n",
      "Layer (type)                 Output Shape              Param #   \n",
      "=================================================================\n",
      "input_2 (InputLayer)         (None, 100)               0         \n",
      "_________________________________________________________________\n",
      "dense_4 (Dense)              (None, 196)               19796     \n",
      "_________________________________________________________________\n",
      "dense_5 (Dense)              (None, 196)               38612     \n",
      "_________________________________________________________________\n",
      "dense_6 (Dense)              (None, 196)               38612     \n",
      "_________________________________________________________________\n",
      "reshape_8 (Reshape)          (None, 14, 14, 1)         0         \n",
      "_________________________________________________________________\n",
      "up_sampling2d_1 (UpSampling2 (None, 28, 28, 1)         0         \n",
      "_________________________________________________________________\n",
      "activation_1 (Activation)    (None, 28, 28, 1)         0         \n",
      "=================================================================\n",
      "Total params: 97,020\n",
      "Trainable params: 97,020\n",
      "Non-trainable params: 0\n",
      "_________________________________________________________________\n"
     ]
    }
   ],
   "source": [
    "# generative model\n",
    "d_input = Input(shape=(100,))\n",
    "\n",
    "\n",
    "x = Dense(units = 14 * 14 ,activation = 'sigmoid')(d_input)\n",
    "x = Dense(units = 14 * 14 ,activation = 'tanh')(x)\n",
    "x = Dense(units = 14 * 14 ,activation = 'relu')(x)\n",
    "x = Reshape((14, 14, 1))(x)\n",
    "x = UpSampling2D(size=(2))(x)\n",
    "x = Activation(\"relu\")(x)\n",
    "generator = Model(d_input, x)\n",
    "generator.compile(loss=\"binary_crossentropy\", optimizer=\"adam\")\n",
    "generator.summary()"
   ]
  },
  {
   "cell_type": "code",
   "execution_count": 11,
   "metadata": {},
   "outputs": [
    {
     "name": "stdout",
     "output_type": "stream",
     "text": [
      "_________________________________________________________________\n",
      "Layer (type)                 Output Shape              Param #   \n",
      "=================================================================\n",
      "input_3 (InputLayer)         (None, 100)               0         \n",
      "_________________________________________________________________\n",
      "model_2 (Model)              (None, 28, 28, 1)         97020     \n",
      "_________________________________________________________________\n",
      "model_1 (Model)              (None, 11)                1625681   \n",
      "=================================================================\n",
      "Total params: 1,722,701\n",
      "Trainable params: 1,722,701\n",
      "Non-trainable params: 0\n",
      "_________________________________________________________________\n"
     ]
    }
   ],
   "source": [
    "# Gen Adv Net\n",
    "\n",
    "g_input = Input(shape=(100,))\n",
    "stack = generator(g_input)\n",
    "stack = model(stack)\n",
    "GAN = Model(g_input, stack)\n",
    "GAN.summary()\n",
    "GAN.compile(loss=\"binary_crossentropy\", optimizer=\"rmsprop\", metrics=[\"accuracy\"])"
   ]
  },
  {
   "cell_type": "code",
   "execution_count": 12,
   "metadata": {},
   "outputs": [],
   "source": [
    "# swtiching model trainability\n",
    "def trainable(model, value):\n",
    "    model.trainable = value\n",
    "    for layer in model.layers:\n",
    "        layer.trainable = value\n",
    "    "
   ]
  },
  {
   "cell_type": "code",
   "execution_count": 14,
   "metadata": {},
   "outputs": [],
   "source": [
    "from collections import defaultdict #for storing loss\n",
    "from itertools import chain # for combining noise and real data"
   ]
  },
  {
   "cell_type": "code",
   "execution_count": 15,
   "metadata": {
    "scrolled": true
   },
   "outputs": [],
   "source": [
    "\n",
    "def train(ndata, data_split_ratio = 0.8, noise_batch = 5000, epochs = 1, lossdict = defaultdict(list)):\n",
    "    batch = noise_batch\n",
    "    for i in range(epochs):\n",
    "        print(\"Iteration :\", i)\n",
    "        (xtrain, ytrain), (xtest, ytest) = random_batch(ndata, data_split_ratio)\n",
    "        xirandom = np.random.uniform(0, 1, size = (batch, 100))\n",
    "\n",
    "        yidata = np.zeros(batch * classes).reshape((batch, classes))\n",
    "        yidata[:,10] = 1\n",
    "        xidata = generator.predict(xirandom)\n",
    "        xindata = np.array(list(chain(xtrain, xidata)))\n",
    "        yindata = np.array(list(chain(ytrain, yidata)))\n",
    "\n",
    "        trainable(model, True)\n",
    "        h = model.fit(xindata, yindata, \n",
    "                      verbose = 1, epochs = 1, \n",
    "                      shuffle = True, batch_size = 500, \n",
    "                      validation_data=(xtest, ytest))\n",
    "\n",
    "        lossdict['d'] += h.history['loss']\n",
    "        trainable(model, False)\n",
    "        xirandom = np.random.uniform(0, 1, size = (batch, 100))\n",
    "        h = GAN.fit(xirandom, yidata, verbose = 1, epochs = 1)\n",
    "        lossdict['g'] += h.history['loss']\n",
    "    return lossdict"
   ]
  },
  {
   "cell_type": "code",
   "execution_count": 24,
   "metadata": {},
   "outputs": [
    {
     "name": "stdout",
     "output_type": "stream",
     "text": [
      "Iteration : 0\n",
      "Train on 53000 samples, validate on 12000 samples\n",
      "Epoch 1/1\n",
      "53000/53000 [==============================] - 59s 1ms/step - loss: 0.3138 - acc: 0.8852 - val_loss: 0.3257 - val_acc: 0.8792\n",
      "Epoch 1/1\n",
      "  64/5000 [..............................] - ETA: 11s - loss: 7.5228e-07 - acc: 1.0000"
     ]
    },
    {
     "name": "stderr",
     "output_type": "stream",
     "text": [
      "/usr/local/lib/python3.6/dist-packages/keras/engine/training.py:973: UserWarning: Discrepancy between trainable weights and collected trainable weights, did you set `model.trainable` without calling `model.compile` after ?\n",
      "  'Discrepancy between trainable weights and collected trainable'\n"
     ]
    },
    {
     "name": "stdout",
     "output_type": "stream",
     "text": [
      "5000/5000 [==============================] - 11s 2ms/step - loss: 1.3378e-07 - acc: 1.0000\n",
      "Iteration : 1\n",
      "Train on 53000 samples, validate on 12000 samples\n",
      "Epoch 1/1\n",
      "53000/53000 [==============================] - 64s 1ms/step - loss: 0.2821 - acc: 0.8955 - val_loss: 0.3080 - val_acc: 0.8888\n",
      "Epoch 1/1\n",
      "5000/5000 [==============================] - 12s 2ms/step - loss: 2.7242e-07 - acc: 1.0000\n",
      "Iteration : 2\n",
      "Train on 53000 samples, validate on 12000 samples\n",
      "Epoch 1/1\n",
      "53000/53000 [==============================] - 66s 1ms/step - loss: 0.2584 - acc: 0.9038 - val_loss: 0.2703 - val_acc: 0.9027\n",
      "Epoch 1/1\n",
      "5000/5000 [==============================] - 12s 2ms/step - loss: 1.9080e-07 - acc: 1.0000\n",
      "Iteration : 3\n",
      "Train on 53000 samples, validate on 12000 samples\n",
      "Epoch 1/1\n",
      "53000/53000 [==============================] - 63s 1ms/step - loss: 0.2338 - acc: 0.9134 - val_loss: 0.2670 - val_acc: 0.8982\n",
      "Epoch 1/1\n",
      "5000/5000 [==============================] - 12s 2ms/step - loss: 1.4080e-07 - acc: 1.0000\n",
      "Iteration : 4\n",
      "Train on 53000 samples, validate on 12000 samples\n",
      "Epoch 1/1\n",
      "53000/53000 [==============================] - 61s 1ms/step - loss: 0.2143 - acc: 0.9204 - val_loss: 0.2169 - val_acc: 0.9203\n",
      "Epoch 1/1\n",
      "5000/5000 [==============================] - 10s 2ms/step - loss: 1.0607e-07 - acc: 1.0000: 1s - loss: 1.066\n",
      "Iteration : 5\n",
      "Train on 53000 samples, validate on 12000 samples\n",
      "Epoch 1/1\n",
      "53000/53000 [==============================] - 63s 1ms/step - loss: 0.1898 - acc: 0.9305 - val_loss: 0.2168 - val_acc: 0.9177\n",
      "Epoch 1/1\n",
      "5000/5000 [==============================] - 12s 2ms/step - loss: 1.0369e-07 - acc: 1.0000\n",
      "Iteration : 6\n",
      "Train on 53000 samples, validate on 12000 samples\n",
      "Epoch 1/1\n",
      "53000/53000 [==============================] - 63s 1ms/step - loss: 0.1744 - acc: 0.9352 - val_loss: 0.1985 - val_acc: 0.9259\n",
      "Epoch 1/1\n",
      "5000/5000 [==============================] - 12s 2ms/step - loss: 1.0251e-07 - acc: 1.0000\n",
      "Iteration : 7\n",
      "Train on 53000 samples, validate on 12000 samples\n",
      "Epoch 1/1\n",
      "53000/53000 [==============================] - 64s 1ms/step - loss: 0.1563 - acc: 0.9426 - val_loss: 0.1548 - val_acc: 0.9437\n",
      "Epoch 1/1\n",
      "5000/5000 [==============================] - 12s 2ms/step - loss: 1.0191e-07 - acc: 1.0000\n",
      "Iteration : 8\n",
      "Train on 53000 samples, validate on 12000 samples\n",
      "Epoch 1/1\n",
      "53000/53000 [==============================] - 62s 1ms/step - loss: 0.1399 - acc: 0.9495 - val_loss: 0.1490 - val_acc: 0.9448\n",
      "Epoch 1/1\n",
      "5000/5000 [==============================] - 12s 2ms/step - loss: 1.0210e-07 - acc: 1.0000\n",
      "Iteration : 9\n",
      "Train on 53000 samples, validate on 12000 samples\n",
      "Epoch 1/1\n",
      "53000/53000 [==============================] - 62s 1ms/step - loss: 0.1257 - acc: 0.9541 - val_loss: 0.1514 - val_acc: 0.9430\n",
      "Epoch 1/1\n",
      "5000/5000 [==============================] - 12s 2ms/step - loss: 1.0209e-07 - acc: 1.0000\n"
     ]
    }
   ],
   "source": [
    "loss = train(ndata, epochs = 10)"
   ]
  },
  {
   "cell_type": "code",
   "execution_count": 28,
   "metadata": {},
   "outputs": [
    {
     "data": {
      "image/png": "[encoded data removed]",
      "text/plain": [
       "<matplotlib.figure.Figure at 0x7fb4a41ae0f0>"
      ]
     },
     "metadata": {},
     "output_type": "display_data"
    }
   ],
   "source": [
    "plt.plot(loss['d'], label = \"discriminator's loss\")\n",
    "plt.legend()\n",
    "plt.show()\n"
   ]
  },
  {
   "cell_type": "code",
   "execution_count": 29,
   "metadata": {},
   "outputs": [
    {
     "name": "stdout",
     "output_type": "stream",
     "text": [
      "453.365\n"
     ]
    },
    {
     "data": {
      "image/png": "[encoded data removed]",
      "text/plain": [
       "<matplotlib.figure.Figure at 0x7fb4a4606d68>"
      ]
     },
     "metadata": {},
     "output_type": "display_data"
    },
    {
     "name": "stdout",
     "output_type": "stream",
     "text": [
      "451.263\n"
     ]
    },
    {
     "data": {
      "image/png": "[encoded data removed]",
      "text/plain": [
       "<matplotlib.figure.Figure at 0x7fb4a48dcfd0>"
      ]
     },
     "metadata": {},
     "output_type": "display_data"
    }
   ],
   "source": [
    "\n",
    "imgs = generator.predict(np.random.uniform(0, 1, size = (2, 100)))\n",
    "for img in imgs:\n",
    "    img = img.reshape((28, 28))\n",
    "    print(np.sum(img))\n",
    "    plt.imshow(img)\n",
    "    plt.show()"
   ]
  },
  {
   "cell_type": "code",
   "execution_count": 30,
   "metadata": {},
   "outputs": [
    {
     "name": "stdout",
     "output_type": "stream",
     "text": [
      "total 270M\n",
      "drwxr-xr-x  4 junaid junaid 4.0K Jan 14 18:06 .\n",
      "drwxrwxr-x 73 junaid junaid 4.0K Jan 12 20:24 ..\n",
      "-rw-r--r--  1 junaid junaid  22M Dec  7 00:54 fashion-mnist_test.csv\n",
      "-rw-r--r--  1 junaid junaid 127M Dec  7 00:54 fashion-mnist_train.csv\n",
      "-rw-rw-r--  1 junaid junaid  69M Jan 13 19:55 fashionmnist.zip\n",
      "drwxr-xr-x  8 junaid junaid 4.0K Jan 14 11:14 .git\n",
      "-rw-r--r--  1 junaid junaid 1.2K Nov 25 15:29 .gitignore\n",
      "drwxr-xr-x  2 junaid junaid 4.0K Jan 14 17:46 .ipynb_checkpoints\n",
      "-rw-r--r--  1 junaid junaid  50K Jan 14 18:06 kaggle fashion dataset.ipynb\n",
      "-rw-r--r--  1 junaid junaid 1.1K Nov 25 15:29 LICENSE\n",
      "-rw-r--r--  1 junaid junaid   81 Nov 25 15:35 README.md\n",
      "-rw-r--r--  1 junaid junaid 7.5M Dec  7 00:54 t10k-images-idx3-ubyte\n",
      "-rw-r--r--  1 junaid junaid 9.8K Dec  7 00:54 t10k-labels-idx1-ubyte\n",
      "-rw-r--r--  1 junaid junaid  45M Dec  7 00:54 train-images-idx3-ubyte\n",
      "-rw-r--r--  1 junaid junaid  59K Dec  7 00:54 train-labels-idx1-ubyte\n"
     ]
    }
   ],
   "source": [
    "%%sh\n",
    "ls -lah"
   ]
  },
  {
   "cell_type": "code",
   "execution_count": 31,
   "metadata": {},
   "outputs": [],
   "source": [
    "tdata = getndata(pd.read_csv(\"fashion-mnist_test.csv\"), num_classes=classes)"
   ]
  },
  {
   "cell_type": "code",
   "execution_count": 32,
   "metadata": {},
   "outputs": [],
   "source": [
    "def makedata(tdata):\n",
    "    y, x = tdata.T\n",
    "    y = np.array(list(y))\n",
    "    x = np.array(list(x))  \n",
    "    return x, y\n",
    "\n",
    "testx, testy = makedata(tdata)"
   ]
  },
  {
   "cell_type": "code",
   "execution_count": 33,
   "metadata": {},
   "outputs": [
    {
     "name": "stdout",
     "output_type": "stream",
     "text": [
      "10000/10000 [==============================] - 9s 863us/step\n"
     ]
    },
    {
     "data": {
      "text/plain": [
       "[0.32691863688528539, 0.89100000000000001]"
      ]
     },
     "execution_count": 33,
     "metadata": {},
     "output_type": "execute_result"
    }
   ],
   "source": [
    "model.evaluate(testx, testy)"
   ]
  },
  {
   "cell_type": "code",
   "execution_count": 34,
   "metadata": {},
   "outputs": [
    {
     "name": "stdout",
     "output_type": "stream",
     "text": [
      "pretty good\n"
     ]
    }
   ],
   "source": [
    "print(\"pretty good\")"
   ]
  }
 ],
 "metadata": {
  "kernelspec": {
   "display_name": "Python 3",
   "language": "python",
   "name": "python3"
  },
  "language_info": {
   "codemirror_mode": {
    "name": "ipython",
    "version": 3
   },
   "file_extension": ".py",
   "mimetype": "text/x-python",
   "name": "python",
   "nbconvert_exporter": "python",
   "pygments_lexer": "ipython3",
   "version": "3.6.3"
  },
  "latex_envs": {
   "LaTeX_envs_menu_present": true,
   "autocomplete": true,
   "bibliofile": "biblio.bib",
   "cite_by": "apalike",
   "current_citInitial": 1,
   "eqLabelWithNumbers": true,
   "eqNumInitial": 1,
   "hotkeys": {
    "equation": "Ctrl-E",
    "itemize": "Ctrl-I"
   },
   "labels_anchors": false,
   "latex_user_defs": false,
   "report_style_numbering": false,
   "user_envs_cfg": false
  },
  "toc": {
   "nav_menu": {},
   "number_sections": true,
   "sideBar": true,
   "skip_h1_title": false,
   "toc_cell": false,
   "toc_position": {},
   "toc_section_display": "block",
   "toc_window_display": false
  }
 },
 "nbformat": 4,
 "nbformat_minor": 2
}
